{
  "nbformat": 4,
  "nbformat_minor": 0,
  "metadata": {
    "colab": {
      "provenance": [],
      "authorship_tag": "ABX9TyN/cfXRRmvFlrJv/CVkDA6s",
      "include_colab_link": true
    },
    "kernelspec": {
      "name": "python3",
      "display_name": "Python 3"
    },
    "language_info": {
      "name": "python"
    }
  },
  "cells": [
    {
      "cell_type": "markdown",
      "metadata": {
        "id": "view-in-github",
        "colab_type": "text"
      },
      "source": [
        "<a href=\"https://colab.research.google.com/github/ldemido/coursera-ccf/blob/main/ccf_lab1.ipynb\" target=\"_parent\"><img src=\"https://colab.research.google.com/assets/colab-badge.svg\" alt=\"Open In Colab\"/></a>"
      ]
    },
    {
      "cell_type": "markdown",
      "source": [],
      "metadata": {
        "id": "n09ZhmX6O1WG"
      }
    },
    {
      "cell_type": "markdown",
      "source": [
        "Code in Python"
      ],
      "metadata": {
        "id": "x4QaPNdAPcyT"
      }
    },
    {
      "cell_type": "code",
      "source": [
        "print (\"HELLO NOAH\")\n"
      ],
      "metadata": {
        "colab": {
          "base_uri": "https://localhost:8080/"
        },
        "id": "gtieKdYePfj3",
        "outputId": "f1a2efe8-d53c-4e99-c3ac-b54420808aea"
      },
      "execution_count": 2,
      "outputs": [
        {
          "output_type": "stream",
          "name": "stdout",
          "text": [
            "HELLO NOAH\n"
          ]
        }
      ]
    },
    {
      "cell_type": "markdown",
      "source": [
        "**Agile principles:**\n",
        "1. Our highest priority is to satisfy the customer through early and continuous \n",
        "delivery of valuable software.\n",
        "\n",
        "2. Welcome changing requirements, even late in development. Agile processes harness change for the customer's competitive advantage.\n",
        "\n",
        "3. Deliver working software frequently, from a couple of weeks to a couple of months, with a preference to the shorter timescale.\n",
        "\n",
        "4. Business people and developers must work together daily throughout the project.\n",
        "\n",
        "5. Build projects around motivated individuals. Give them the environment and support they need, and trust them to get the job done.\n",
        "\n",
        "6. The most efficient and effective method of conveying information to and within a development team is face-to-face conversation.\n",
        "\n",
        "7. Working software is the primary measure of progress.\n",
        "\n",
        "8. Agile processes promote sustainable development. The sponsors, developers, and users should be able to maintain a constant pace indefinitely.\n",
        "\n",
        "9. Continuous attention to technical excellence and good design enhances agility.\n",
        "\n",
        "10. Simplicity--the art of maximizing the amount of work not done--is essential.\n",
        "\n",
        "11. The best architectures, requirements, and designs emerge from self-organizing teams.\n",
        "\n",
        "12. At regular intervals, the team reflects on how to become more effective, then tunes and adjusts its behavior accordingly.\n",
        "\n",
        "\n"
      ],
      "metadata": {
        "id": "pkdv5J2hPy4i"
      }
    },
    {
      "cell_type": "markdown",
      "source": [],
      "metadata": {
        "id": "YL7LE-DHPofF"
      }
    }
  ]
}